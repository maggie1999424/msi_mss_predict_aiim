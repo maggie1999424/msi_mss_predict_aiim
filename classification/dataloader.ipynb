{
 "cells": [
  {
   "cell_type": "code",
   "execution_count": 27,
   "metadata": {},
   "outputs": [],
   "source": [
    "import torch\n",
    "import random\n",
    "import pandas as pd\n",
    "from torchvision import transforms\n",
    "from torch.utils.data import Dataset\n",
    "import os\n",
    "from PIL import Image"
   ]
  },
  {
   "cell_type": "code",
   "execution_count": 34,
   "metadata": {},
   "outputs": [],
   "source": [
    "transform = transforms.Compose([\n",
    "            transforms.Resize(224),\n",
    "            transforms.ToTensor(),\n",
    "            transforms.Normalize([0.485, 0.456, 0.406], [0.229, 0.224, 0.225])\n",
    "        ])\n",
    "\n",
    "class CustomDataset(Dataset):\n",
    "    def __init__(self, csv, transform):\n",
    "        self.data = pd.read_csv(csv)\n",
    "        self.transform = transform\n",
    "\n",
    "    def __len__(self):\n",
    "        return len(self.data)\n",
    "    def open_image(self,path):\n",
    "        img = Image.open(path)\n",
    "        img = img.convert('RGB')\n",
    "        img = self.transform(img)\n",
    "        return img\n",
    "    def __getitem__(self, index):\n",
    "        sample = {'data': self.open_image(self.data.loc[index]['path']),\n",
    "                'label': self.data.loc[index]['label']}\n",
    "        return sample"
   ]
  }
 ],
 "metadata": {
  "kernelspec": {
   "display_name": "na",
   "language": "python",
   "name": "python3"
  },
  "language_info": {
   "codemirror_mode": {
    "name": "ipython",
    "version": 3
   },
   "file_extension": ".py",
   "mimetype": "text/x-python",
   "name": "python",
   "nbconvert_exporter": "python",
   "pygments_lexer": "ipython3",
   "version": "3.11.5"
  },
  "orig_nbformat": 4,
  "vscode": {
   "interpreter": {
    "hash": "79010693ea814ec4fb35e86fc52a146eb5fa5fbb9504906ae51337f463bbab86"
   }
  }
 },
 "nbformat": 4,
 "nbformat_minor": 2
}
